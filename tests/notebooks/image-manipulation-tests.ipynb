{
 "cells": [
  {
   "cell_type": "code",
   "execution_count": 5,
   "id": "2b795c25-1cef-4168-bb36-1936b718322b",
   "metadata": {},
   "outputs": [
    {
     "name": "stdout",
     "output_type": "stream",
     "text": [
      "Requirement already satisfied: Pillow in /Users/sgmustadio/opt/anaconda3/envs/tensorflow-cpu/lib/python3.9/site-packages (9.1.1)\n",
      "Requirement already satisfied: numpy in /Users/sgmustadio/opt/anaconda3/envs/tensorflow-cpu/lib/python3.9/site-packages (1.22.3)\n",
      "Requirement already satisfied: scipy in /Users/sgmustadio/opt/anaconda3/envs/tensorflow-cpu/lib/python3.9/site-packages (1.8.1)\n",
      "Requirement already satisfied: matplotlib in /Users/sgmustadio/opt/anaconda3/envs/tensorflow-cpu/lib/python3.9/site-packages (3.5.2)\n",
      "Requirement already satisfied: kiwisolver>=1.0.1 in /Users/sgmustadio/opt/anaconda3/envs/tensorflow-cpu/lib/python3.9/site-packages (from matplotlib) (1.4.3)\n",
      "Requirement already satisfied: pyparsing>=2.2.1 in /Users/sgmustadio/opt/anaconda3/envs/tensorflow-cpu/lib/python3.9/site-packages (from matplotlib) (3.0.8)\n",
      "Requirement already satisfied: cycler>=0.10 in /Users/sgmustadio/opt/anaconda3/envs/tensorflow-cpu/lib/python3.9/site-packages (from matplotlib) (0.11.0)\n",
      "Requirement already satisfied: python-dateutil>=2.7 in /Users/sgmustadio/opt/anaconda3/envs/tensorflow-cpu/lib/python3.9/site-packages (from matplotlib) (2.8.2)\n",
      "Requirement already satisfied: fonttools>=4.22.0 in /Users/sgmustadio/opt/anaconda3/envs/tensorflow-cpu/lib/python3.9/site-packages (from matplotlib) (4.33.3)\n",
      "Requirement already satisfied: packaging>=20.0 in /Users/sgmustadio/opt/anaconda3/envs/tensorflow-cpu/lib/python3.9/site-packages (from matplotlib) (23.0)\n",
      "Requirement already satisfied: six>=1.5 in /Users/sgmustadio/opt/anaconda3/envs/tensorflow-cpu/lib/python3.9/site-packages (from python-dateutil>=2.7->matplotlib) (1.16.0)\n"
     ]
    }
   ],
   "source": [
    "# If not already installed, install these\n",
    "!python -m pip install Pillow numpy scipy matplotlib"
   ]
  },
  {
   "cell_type": "code",
   "execution_count": 9,
   "id": "72420240-fe75-4533-926d-fb89a8d79514",
   "metadata": {},
   "outputs": [],
   "source": [
    "import numpy as np\n",
    "import matplotlib.pyplot as plt"
   ]
  },
  {
   "cell_type": "code",
   "execution_count": 59,
   "id": "087fbd74-2c29-4e14-aea4-c836c10bed28",
   "metadata": {},
   "outputs": [],
   "source": [
    "# Create RGB888 test image pattern\n",
    "img = np.array([[[255, 0, 0], [255, 0, 0], [0, 255, 0], [0, 255, 0], [0, 0, 255], [0, 0, 255]],\n",
    "                [[255, 0, 0], [255, 0, 0], [0, 255, 0], [0, 255, 0], [0, 0, 255], [0, 0, 255]],\n",
    "                [[255, 255, 0], [255, 255, 0], [0, 255, 255], [0, 255, 255], [255, 0, 255], [255, 0, 255]],\n",
    "                [[0, 0, 0], [51, 51, 51], [102, 102, 102], [153, 153, 153], [204, 204, 204], [255, 255, 255]],\n",
    "                [[100, 0, 0], [50, 50, 0], [20, 20, 0], [0, 10, 10], [1, 2, 3], [1, 1, 2]],\n",
    "                [[50, 50, 0], [100, 0, 0], [0, 10, 10], [20, 20, 0], [1, 1, 2], [1, 2, 3]]], dtype=np.ubyte)"
   ]
  },
  {
   "cell_type": "code",
   "execution_count": 60,
   "id": "208fc217-17d2-4a35-90d3-660d117ddcc9",
   "metadata": {
    "tags": []
   },
   "outputs": [
    {
     "data": {
      "text/plain": [
       "<matplotlib.image.AxesImage at 0x7fec98713ac0>"
      ]
     },
     "execution_count": 60,
     "metadata": {},
     "output_type": "execute_result"
    },
    {
     "data": {
      "image/png": "[encoded data removed]",
      "text/plain": [
       "<Figure size 432x288 with 1 Axes>"
      ]
     },
     "metadata": {
      "needs_background": "light"
     },
     "output_type": "display_data"
    }
   ],
   "source": [
    "# Show image\n",
    "plt.imshow(img)"
   ]
  },
  {
   "cell_type": "code",
   "execution_count": 88,
   "id": "1abd99c5-5861-4de6-a814-512fb5cf4138",
   "metadata": {},
   "outputs": [
    {
     "name": "stdout",
     "output_type": "stream",
     "text": [
      "{\n",
      "    255, 0, 0, 255, 0, 0, 0, 255, 0, 0, 255, 0, 0, 0, 255, 0, 0, 255, \n",
      "    255, 0, 0, 255, 0, 0, 0, 255, 0, 0, 255, 0, 0, 0, 255, 0, 0, 255, \n",
      "    255, 255, 0, 255, 255, 0, 0, 255, 255, 0, 255, 255, 255, 0, 255, 255, 0, 255, \n",
      "    0, 0, 0, 51, 51, 51, 102, 102, 102, 153, 153, 153, 204, 204, 204, 255, 255, 255, \n",
      "    100, 0, 0, 50, 50, 0, 20, 20, 0, 0, 10, 10, 1, 2, 3, 1, 1, 2, \n",
      "    50, 50, 0, 100, 0, 0, 0, 10, 10, 20, 20, 0, 1, 1, 2, 1, 2, 3\n",
      "}\n"
     ]
    }
   ],
   "source": [
    "### Print C version (copy output to array in test/unit-tests/main.c for testing)\n",
    "\n",
    "# Counter to help with formatting\n",
    "count = 0\n",
    "total = np.prod(img.shape)\n",
    "\n",
    "# Print C array\n",
    "print(\"{\")\n",
    "for y, row in enumerate(img):\n",
    "    print(end=\"    \")\n",
    "    for pix in row:\n",
    "        for c in pix:\n",
    "            if count < total - 1:\n",
    "                print(f\"{c}, \", end=\"\")\n",
    "            else:\n",
    "                print(f\"{c}\", end=\"\")\n",
    "            count += 1\n",
    "    print()\n",
    "print(\"}\")"
   ]
  },
  {
   "cell_type": "code",
   "execution_count": 93,
   "id": "7d7aab4e-a7bc-4646-8e6c-1162ac938742",
   "metadata": {},
   "outputs": [
    {
     "name": "stdout",
     "output_type": "stream",
     "text": [
      "[1 2 3]\n"
     ]
    }
   ],
   "source": [
    "# Get pixel value\n",
    "print(img[5, 5])"
   ]
  },
  {
   "cell_type": "code",
   "execution_count": 76,
   "id": "559c388d-ccf2-48df-a2f8-a5ebbf63b454",
   "metadata": {},
   "outputs": [
    {
     "data": {
      "text/plain": [
       "108"
      ]
     },
     "execution_count": 76,
     "metadata": {},
     "output_type": "execute_result"
    }
   ],
   "source": [
    "np.prod(img.shape)"
   ]
  },
  {
   "cell_type": "code",
   "execution_count": null,
   "id": "02b4a266-259a-4beb-bd6e-4d6430312f3f",
   "metadata": {},
   "outputs": [],
   "source": []
  }
 ],
 "metadata": {
  "kernelspec": {
   "display_name": "Python 3",
   "language": "python",
   "name": "python3"
  },
  "language_info": {
   "codemirror_mode": {
    "name": "ipython",
    "version": 3
   },
   "file_extension": ".py",
   "mimetype": "text/x-python",
   "name": "python",
   "nbconvert_exporter": "python",
   "pygments_lexer": "ipython3",
   "version": "3.9.12"
  }
 },
 "nbformat": 4,
 "nbformat_minor": 5
}
