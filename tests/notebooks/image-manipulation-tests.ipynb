{
 "cells": [
  {
   "cell_type": "markdown",
   "id": "f3159cae-cf92-47f0-b0c7-6609f0e5786c",
   "metadata": {},
   "source": [
    "# Image manipulation tests"
   ]
  },
  {
   "cell_type": "markdown",
   "id": "b2216987-daec-47ac-9ac2-a1cd291503a4",
   "metadata": {
    "tags": []
   },
   "source": [
    "## Setup"
   ]
  },
  {
   "cell_type": "code",
   "execution_count": 22,
   "id": "2b795c25-1cef-4168-bb36-1936b718322b",
   "metadata": {
    "tags": []
   },
   "outputs": [
    {
     "name": "stdout",
     "output_type": "stream",
     "text": [
      "Requirement already satisfied: Pillow in /Users/sgmustadio/opt/anaconda3/envs/tensorflow-cpu/lib/python3.9/site-packages (9.1.1)\n",
      "Requirement already satisfied: numpy in /Users/sgmustadio/opt/anaconda3/envs/tensorflow-cpu/lib/python3.9/site-packages (1.22.3)\n",
      "Requirement already satisfied: scipy in /Users/sgmustadio/opt/anaconda3/envs/tensorflow-cpu/lib/python3.9/site-packages (1.8.1)\n",
      "Requirement already satisfied: matplotlib in /Users/sgmustadio/opt/anaconda3/envs/tensorflow-cpu/lib/python3.9/site-packages (3.5.2)\n",
      "Requirement already satisfied: fonttools>=4.22.0 in /Users/sgmustadio/opt/anaconda3/envs/tensorflow-cpu/lib/python3.9/site-packages (from matplotlib) (4.33.3)\n",
      "Requirement already satisfied: pyparsing>=2.2.1 in /Users/sgmustadio/opt/anaconda3/envs/tensorflow-cpu/lib/python3.9/site-packages (from matplotlib) (3.0.8)\n",
      "Requirement already satisfied: python-dateutil>=2.7 in /Users/sgmustadio/opt/anaconda3/envs/tensorflow-cpu/lib/python3.9/site-packages (from matplotlib) (2.8.2)\n",
      "Requirement already satisfied: packaging>=20.0 in /Users/sgmustadio/opt/anaconda3/envs/tensorflow-cpu/lib/python3.9/site-packages (from matplotlib) (23.0)\n",
      "Requirement already satisfied: cycler>=0.10 in /Users/sgmustadio/opt/anaconda3/envs/tensorflow-cpu/lib/python3.9/site-packages (from matplotlib) (0.11.0)\n",
      "Requirement already satisfied: kiwisolver>=1.0.1 in /Users/sgmustadio/opt/anaconda3/envs/tensorflow-cpu/lib/python3.9/site-packages (from matplotlib) (1.4.3)\n",
      "Requirement already satisfied: six>=1.5 in /Users/sgmustadio/opt/anaconda3/envs/tensorflow-cpu/lib/python3.9/site-packages (from python-dateutil>=2.7->matplotlib) (1.16.0)\n"
     ]
    }
   ],
   "source": [
    "# If not already installed, install these\n",
    "!python -m pip install Pillow numpy scipy matplotlib"
   ]
  },
  {
   "cell_type": "code",
   "execution_count": 23,
   "id": "72420240-fe75-4533-926d-fb89a8d79514",
   "metadata": {},
   "outputs": [],
   "source": [
    "import numpy as np\n",
    "import matplotlib.pyplot as plt\n",
    "from PIL import Image"
   ]
  },
  {
   "cell_type": "code",
   "execution_count": 24,
   "id": "087fbd74-2c29-4e14-aea4-c836c10bed28",
   "metadata": {},
   "outputs": [],
   "source": [
    "# Create RGB888 test image pattern\n",
    "img = np.array([[[255, 0, 0], [255, 0, 0], [0, 255, 0], [0, 255, 0], [0, 0, 255], [0, 0, 255]],\n",
    "                [[255, 0, 0], [255, 0, 0], [0, 255, 0], [0, 255, 0], [0, 0, 255], [0, 0, 255]],\n",
    "                [[255, 255, 0], [255, 255, 0], [0, 255, 255], [0, 255, 255], [255, 0, 255], [255, 0, 255]],\n",
    "                [[0, 0, 0], [51, 51, 51], [102, 102, 102], [153, 153, 153], [204, 204, 204], [255, 255, 255]],\n",
    "                [[100, 0, 0], [50, 50, 0], [20, 20, 0], [0, 10, 10], [1, 2, 3], [1, 1, 2]],\n",
    "                [[50, 50, 0], [100, 0, 0], [0, 10, 10], [20, 20, 0], [1, 1, 2], [1, 2, 3]]], dtype=np.ubyte)"
   ]
  },
  {
   "cell_type": "code",
   "execution_count": 25,
   "id": "208fc217-17d2-4a35-90d3-660d117ddcc9",
   "metadata": {
    "tags": []
   },
   "outputs": [
    {
     "data": {
      "text/plain": [
       "<matplotlib.image.AxesImage at 0x7fd418a8dfd0>"
      ]
     },
     "execution_count": 25,
     "metadata": {},
     "output_type": "execute_result"
    },
    {
     "data": {
      "image/png": "[encoded data removed]",
      "text/plain": [
       "<Figure size 432x288 with 1 Axes>"
      ]
     },
     "metadata": {
      "needs_background": "light"
     },
     "output_type": "display_data"
    }
   ],
   "source": [
    "# Show image\n",
    "plt.imshow(img)"
   ]
  },
  {
   "cell_type": "code",
   "execution_count": 26,
   "id": "1abd99c5-5861-4de6-a814-512fb5cf4138",
   "metadata": {},
   "outputs": [
    {
     "name": "stdout",
     "output_type": "stream",
     "text": [
      "{\n",
      "    255, 0, 0, 255, 0, 0, 0, 255, 0, 0, 255, 0, 0, 0, 255, 0, 0, 255, \n",
      "    255, 0, 0, 255, 0, 0, 0, 255, 0, 0, 255, 0, 0, 0, 255, 0, 0, 255, \n",
      "    255, 255, 0, 255, 255, 0, 0, 255, 255, 0, 255, 255, 255, 0, 255, 255, 0, 255, \n",
      "    0, 0, 0, 51, 51, 51, 102, 102, 102, 153, 153, 153, 204, 204, 204, 255, 255, 255, \n",
      "    100, 0, 0, 50, 50, 0, 20, 20, 0, 0, 10, 10, 1, 2, 3, 1, 1, 2, \n",
      "    50, 50, 0, 100, 0, 0, 0, 10, 10, 20, 20, 0, 1, 1, 2, 1, 2, 3\n",
      "}\n"
     ]
    }
   ],
   "source": [
    "### Print C version (copy output to array in test/unit-tests/main.c for testing)\n",
    "\n",
    "# Counter to help with formatting\n",
    "count = 0\n",
    "total = np.prod(img.shape)\n",
    "\n",
    "# Print C array\n",
    "print(\"{\")\n",
    "for y, row in enumerate(img):\n",
    "    print(end=\"    \")\n",
    "    for pix in row:\n",
    "        for c in pix:\n",
    "            if count < total - 1:\n",
    "                print(f\"{c}, \", end=\"\")\n",
    "            else:\n",
    "                print(f\"{c}\", end=\"\")\n",
    "            count += 1\n",
    "    print()\n",
    "print(\"}\")"
   ]
  },
  {
   "cell_type": "markdown",
   "id": "b3e6eeb5-2dfa-4075-adb4-7dad3b914f8c",
   "metadata": {
    "tags": []
   },
   "source": [
    "## Get/set pixels"
   ]
  },
  {
   "cell_type": "code",
   "execution_count": 27,
   "id": "7d7aab4e-a7bc-4646-8e6c-1162ac938742",
   "metadata": {
    "tags": []
   },
   "outputs": [
    {
     "name": "stdout",
     "output_type": "stream",
     "text": [
      "[1 2 3]\n"
     ]
    }
   ],
   "source": [
    "### Test: Get pixel value\n",
    "print(img[5, 5])"
   ]
  },
  {
   "cell_type": "markdown",
   "id": "c8001c7d-2bbf-4bdc-9d8c-15da582484ba",
   "metadata": {
    "tags": []
   },
   "source": [
    "## Color conversion"
   ]
  },
  {
   "cell_type": "markdown",
   "id": "dc707d81-c19e-42aa-9e91-27bb3af83dd6",
   "metadata": {
    "tags": []
   },
   "source": [
    "## Cropping"
   ]
  },
  {
   "cell_type": "markdown",
   "id": "f876ee6b-0fcd-4e17-af0f-09527195ebc4",
   "metadata": {},
   "source": [
    "## Scaling"
   ]
  },
  {
   "cell_type": "code",
   "execution_count": 28,
   "id": "02b4a266-259a-4beb-bd6e-4d6430312f3f",
   "metadata": {
    "tags": []
   },
   "outputs": [
    {
     "data": {
      "image/png": "[encoded data removed]",
      "text/plain": [
       "<PIL.Image.Image image mode=RGB size=6x6>"
      ]
     },
     "metadata": {},
     "output_type": "display_data"
    }
   ],
   "source": [
    "### Convert image to Pillow format\n",
    "pil_img = Image.fromarray(img)\n",
    "display(pil_img)"
   ]
  },
  {
   "cell_type": "code",
   "execution_count": 29,
   "id": "03f7f743-f9a3-4bd7-ba66-c988087ef640",
   "metadata": {},
   "outputs": [
    {
     "name": "stdout",
     "output_type": "stream",
     "text": [
      "[[[255   0   0]\n",
      "  [255   0   0]\n",
      "  [255   0   0]\n",
      "  [191  64   0]\n",
      "  [ 64 191   0]\n",
      "  [  0 255   0]\n",
      "  [  0 255   0]\n",
      "  [  0 191  64]\n",
      "  [  0  64 191]\n",
      "  [  0   0 255]\n",
      "  [  0   0 255]\n",
      "  [  0   0 255]]\n",
      "\n",
      " [[255   0   0]\n",
      "  [255   0   0]\n",
      "  [255   0   0]\n",
      "  [191  64   0]\n",
      "  [ 64 191   0]\n",
      "  [  0 255   0]\n",
      "  [  0 255   0]\n",
      "  [  0 191  64]\n",
      "  [  0  64 191]\n",
      "  [  0   0 255]\n",
      "  [  0   0 255]\n",
      "  [  0   0 255]]\n",
      "\n",
      " [[255   0   0]\n",
      "  [255   0   0]\n",
      "  [255   0   0]\n",
      "  [191  64   0]\n",
      "  [ 64 191   0]\n",
      "  [  0 255   0]\n",
      "  [  0 255   0]\n",
      "  [  0 191  64]\n",
      "  [  0  64 191]\n",
      "  [  0   0 255]\n",
      "  [  0   0 255]\n",
      "  [  0   0 255]]\n",
      "\n",
      " [[255   0   0]\n",
      "  [255   0   0]\n",
      "  [255   0   0]\n",
      "  [191  64   0]\n",
      "  [ 64 191   0]\n",
      "  [  0 255   0]\n",
      "  [  0 255   0]\n",
      "  [  0 191  64]\n",
      "  [  0  64 191]\n",
      "  [  0   0 255]\n",
      "  [  0   0 255]\n",
      "  [  0   0 255]]\n",
      "\n",
      " [[255  76   0]\n",
      "  [255  76   0]\n",
      "  [255  76   0]\n",
      "  [191 121  19]\n",
      "  [ 64 210  57]\n",
      "  [  0 255  76]\n",
      "  [  0 255  76]\n",
      "  [ 19 191 121]\n",
      "  [ 57  64 210]\n",
      "  [ 76   0 255]\n",
      "  [ 76   0 255]\n",
      "  [ 76   0 255]]\n",
      "\n",
      " [[255 179   0]\n",
      "  [255 179   0]\n",
      "  [255 179   0]\n",
      "  [191 198  45]\n",
      "  [ 64 236 134]\n",
      "  [  0 255 179]\n",
      "  [  0 255 179]\n",
      "  [ 45 191 198]\n",
      "  [134  64 236]\n",
      "  [179   0 255]\n",
      "  [179   0 255]\n",
      "  [179   0 255]]\n",
      "\n",
      " [[230 230   0]\n",
      "  [231 231   1]\n",
      "  [233 233   4]\n",
      "  [178 236  64]\n",
      "  [ 66 238 181]\n",
      "  [ 11 241 241]\n",
      "  [ 14 244 244]\n",
      "  [ 74 189 246]\n",
      "  [191  77 249]\n",
      "  [251  22 251]\n",
      "  [254  24 254]\n",
      "  [255  25 255]]\n",
      "\n",
      " [[128 128   0]\n",
      "  [134 134   7]\n",
      "  [147 147  19]\n",
      "  [128 160  64]\n",
      "  [ 77 172 140]\n",
      "  [ 58 185 185]\n",
      "  [ 70 198 198]\n",
      "  [115 179 211]\n",
      "  [191 128 223]\n",
      "  [236 109 236]\n",
      "  [249 121 249]\n",
      "  [255 128 255]]\n",
      "\n",
      " [[ 25  25   0]\n",
      "  [ 37  37  12]\n",
      "  [ 60  60  34]\n",
      "  [ 77  83  64]\n",
      "  [ 87 106  99]\n",
      "  [104 129 129]\n",
      "  [126 151 151]\n",
      "  [156 168 175]\n",
      "  [191 178 197]\n",
      "  [221 195 221]\n",
      "  [243 218 243]\n",
      "  [255 230 255]]\n",
      "\n",
      " [[ 30   0   0]\n",
      "  [ 35  13   9]\n",
      "  [ 45  38  27]\n",
      "  [ 58  58  45]\n",
      "  [ 71  71  62]\n",
      "  [ 85  86  81]\n",
      "  [100 102 100]\n",
      "  [116 119 119]\n",
      "  [134 135 135]\n",
      "  [152 153 153]\n",
      "  [170 170 170]\n",
      "  [179 179 179]]\n",
      "\n",
      " [[ 70   0   0]\n",
      "  [ 66  13   4]\n",
      "  [ 56  38  11]\n",
      "  [ 49  49  19]\n",
      "  [ 46  46  27]\n",
      "  [ 45  47  37]\n",
      "  [ 45  51  48]\n",
      "  [ 50  55  55]\n",
      "  [ 58  60  61]\n",
      "  [ 66  66  67]\n",
      "  [ 73  73  74]\n",
      "  [ 77  77  78]]\n",
      "\n",
      " [[ 95   5   0]\n",
      "  [ 86  15   0]\n",
      "  [ 65  36   0]\n",
      "  [ 46  39   0]\n",
      "  [ 28  26   1]\n",
      "  [ 14  18   3]\n",
      "  [  6  13   8]\n",
      "  [  1   9   7]\n",
      "  [  1   4   5]\n",
      "  [  1   2   3]\n",
      "  [  1   1   2]\n",
      "  [  1   1   2]]\n",
      "\n",
      " [[ 75  25   0]\n",
      "  [ 76  26   0]\n",
      "  [ 76  26   0]\n",
      "  [ 59  23   2]\n",
      "  [ 27  18   4]\n",
      "  [ 10  16   6]\n",
      "  [ 10  16   6]\n",
      "  [  8  12   5]\n",
      "  [  4   5   4]\n",
      "  [  1   2   3]\n",
      "  [  1   2   3]\n",
      "  [  1   2   3]]\n",
      "\n",
      " [[ 55  45   0]\n",
      "  [ 65  36   0]\n",
      "  [ 86  15   0]\n",
      "  [ 72   7   3]\n",
      "  [ 25  10   7]\n",
      "  [  6  13   8]\n",
      "  [ 14  18   3]\n",
      "  [ 14  14   2]\n",
      "  [  6   6   2]\n",
      "  [  1   1   2]\n",
      "  [  1   2   3]\n",
      "  [  1   2   3]]\n",
      "\n",
      " [[ 50  50   0]\n",
      "  [ 63  38   0]\n",
      "  [ 88  13   0]\n",
      "  [ 75   3   3]\n",
      "  [ 25   8   8]\n",
      "  [  5  13   8]\n",
      "  [ 15  18   3]\n",
      "  [ 15  15   1]\n",
      "  [  6   6   2]\n",
      "  [  1   1   2]\n",
      "  [  1   2   3]\n",
      "  [  1   2   3]]]\n"
     ]
    },
    {
     "data": {
      "text/plain": [
       "<matplotlib.image.AxesImage at 0x7fd418a0a2b0>"
      ]
     },
     "execution_count": 29,
     "metadata": {},
     "output_type": "execute_result"
    },
    {
     "data": {
      "image/png": "[encoded data removed]",
      "text/plain": [
       "<Figure size 432x288 with 1 Axes>"
      ]
     },
     "metadata": {
      "needs_background": "light"
     },
     "output_type": "display_data"
    }
   ],
   "source": [
    "### Scale up with bilinear interpolation\n",
    "\n",
    "# Do scaling\n",
    "pil_img_upsampled = pil_img.resize((12, 15), resample=Image.Resampling.BILINEAR)\n",
    "\n",
    "# View image as Numpy array\n",
    "img_resized = np.array(pil_img_upsampled)\n",
    "print(img_resized)\n",
    "plt.imshow(img_resized)"
   ]
  },
  {
   "cell_type": "code",
   "execution_count": 30,
   "id": "f571d066-65cd-4232-a4ae-d01e36ea7646",
   "metadata": {},
   "outputs": [
    {
     "name": "stdout",
     "output_type": "stream",
     "text": [
      "[[[255   0   0]\n",
      "  [255   0   0]\n",
      "  [  0 255   0]\n",
      "  [  0   0 255]\n",
      "  [  0   0 255]]\n",
      "\n",
      " [[255 255   0]\n",
      "  [255 255   0]\n",
      "  [  0 255 255]\n",
      "  [255   0 255]\n",
      "  [255   0 255]]\n",
      "\n",
      " [[  0   0   0]\n",
      "  [ 51  51  51]\n",
      "  [153 153 153]\n",
      "  [204 204 204]\n",
      "  [255 255 255]]\n",
      "\n",
      " [[ 50  50   0]\n",
      "  [100   0   0]\n",
      "  [ 20  20   0]\n",
      "  [  1   1   2]\n",
      "  [  1   2   3]]]\n"
     ]
    },
    {
     "data": {
      "text/plain": [
       "<matplotlib.image.AxesImage at 0x7fd4284b7fd0>"
      ]
     },
     "execution_count": 30,
     "metadata": {},
     "output_type": "execute_result"
    },
    {
     "data": {
      "image/png": "[encoded data removed]",
      "text/plain": [
       "<Figure size 432x288 with 1 Axes>"
      ]
     },
     "metadata": {
      "needs_background": "light"
     },
     "output_type": "display_data"
    }
   ],
   "source": [
    "### Scale down with nearest neighbor\n",
    "\n",
    "# Do scaling\n",
    "pil_img_downsampled = pil_img.resize((5, 4), resample=Image.Resampling.NEAREST)\n",
    "\n",
    "# View image as Numpy array\n",
    "img_resized = np.array(pil_img_downsampled)\n",
    "print(img_resized)\n",
    "plt.imshow(img_resized)"
   ]
  },
  {
   "cell_type": "code",
   "execution_count": null,
   "id": "421d2654-2095-4e96-be18-a36a01680b18",
   "metadata": {},
   "outputs": [],
   "source": []
  }
 ],
 "metadata": {
  "kernelspec": {
   "display_name": "Python 3",
   "language": "python",
   "name": "python3"
  },
  "language_info": {
   "codemirror_mode": {
    "name": "ipython",
    "version": 3
   },
   "file_extension": ".py",
   "mimetype": "text/x-python",
   "name": "python",
   "nbconvert_exporter": "python",
   "pygments_lexer": "ipython3",
   "version": "3.9.12"
  }
 },
 "nbformat": 4,
 "nbformat_minor": 5
}
